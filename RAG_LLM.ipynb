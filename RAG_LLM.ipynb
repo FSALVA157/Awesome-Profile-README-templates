{
  "nbformat": 4,
  "nbformat_minor": 0,
  "metadata": {
    "colab": {
      "provenance": [],
      "include_colab_link": true
    },
    "kernelspec": {
      "name": "python3",
      "display_name": "Python 3"
    },
    "language_info": {
      "name": "python"
    }
  },
  "cells": [
    {
      "cell_type": "markdown",
      "metadata": {
        "id": "view-in-github",
        "colab_type": "text"
      },
      "source": [
        "<a href=\"https://colab.research.google.com/github/FSALVA157/Awesome-Profile-README-templates/blob/master/RAG_LLM.ipynb\" target=\"_parent\"><img src=\"https://colab.research.google.com/assets/colab-badge.svg\" alt=\"Open In Colab\"/></a>"
      ]
    },
    {
      "cell_type": "markdown",
      "source": [
        "## **Construir una aplicación RAG desde cero**"
      ],
      "metadata": {
        "id": "RFs20TC63YjV"
      }
    },
    {
      "cell_type": "markdown",
      "source": [
        "Vamos a comenzar cargando las variables de entorno que necesitamos utilizar."
      ],
      "metadata": {
        "id": "7NmmVbJa3e5b"
      }
    },
    {
      "cell_type": "code",
      "source": [
        "!pip install python-dotenv\n",
        "!pip install langchain-openai\n",
        "!pip install langchain-community\n",
        "!pip install pypdf\n",
        "!pip install langchain\n",
        "!pip install docarray\n",
        "!pip install langchain_pinecone\n",
        "\n",
        "import os\n",
        "from dotenv import load_dotenv\n",
        "\n",
        "load_dotenv()\n",
        "\n",
        "OPENAI_API_KEY = os.getenv(\"OPENAI_API_KEY\")\n",
        "PINECONE_API_KEY = os.getenv(\"PINECONE_API_KEY\")\n",
        "print(OPENAI_API_KEY)\n",
        "print(PINECONE_API_KEY)\n"
      ],
      "metadata": {
        "colab": {
          "base_uri": "https://localhost:8080/"
        },
        "id": "8dMTsMNJ3k9E",
        "outputId": "9489096a-be7f-4220-e19d-9c8029d58362"
      },
      "execution_count": null,
      "outputs": [
        {
          "output_type": "stream",
          "name": "stdout",
          "text": [
            "Requirement already satisfied: python-dotenv in /usr/local/lib/python3.10/dist-packages (1.0.1)\n",
            "Requirement already satisfied: langchain-openai in /usr/local/lib/python3.10/dist-packages (0.1.6)\n",
            "Requirement already satisfied: langchain-core<0.2.0,>=0.1.46 in /usr/local/lib/python3.10/dist-packages (from langchain-openai) (0.1.50)\n",
            "Requirement already satisfied: openai<2.0.0,>=1.24.0 in /usr/local/lib/python3.10/dist-packages (from langchain-openai) (1.25.1)\n",
            "Requirement already satisfied: tiktoken<1,>=0.5.2 in /usr/local/lib/python3.10/dist-packages (from langchain-openai) (0.6.0)\n",
            "Requirement already satisfied: PyYAML>=5.3 in /usr/local/lib/python3.10/dist-packages (from langchain-core<0.2.0,>=0.1.46->langchain-openai) (6.0.1)\n",
            "Requirement already satisfied: jsonpatch<2.0,>=1.33 in /usr/local/lib/python3.10/dist-packages (from langchain-core<0.2.0,>=0.1.46->langchain-openai) (1.33)\n",
            "Requirement already satisfied: langsmith<0.2.0,>=0.1.0 in /usr/local/lib/python3.10/dist-packages (from langchain-core<0.2.0,>=0.1.46->langchain-openai) (0.1.53)\n",
            "Requirement already satisfied: packaging<24.0,>=23.2 in /usr/local/lib/python3.10/dist-packages (from langchain-core<0.2.0,>=0.1.46->langchain-openai) (23.2)\n",
            "Requirement already satisfied: pydantic<3,>=1 in /usr/local/lib/python3.10/dist-packages (from langchain-core<0.2.0,>=0.1.46->langchain-openai) (2.7.1)\n",
            "Requirement already satisfied: tenacity<9.0.0,>=8.1.0 in /usr/local/lib/python3.10/dist-packages (from langchain-core<0.2.0,>=0.1.46->langchain-openai) (8.2.3)\n",
            "Requirement already satisfied: anyio<5,>=3.5.0 in /usr/local/lib/python3.10/dist-packages (from openai<2.0.0,>=1.24.0->langchain-openai) (3.7.1)\n",
            "Requirement already satisfied: distro<2,>=1.7.0 in /usr/lib/python3/dist-packages (from openai<2.0.0,>=1.24.0->langchain-openai) (1.7.0)\n",
            "Requirement already satisfied: httpx<1,>=0.23.0 in /usr/local/lib/python3.10/dist-packages (from openai<2.0.0,>=1.24.0->langchain-openai) (0.27.0)\n",
            "Requirement already satisfied: sniffio in /usr/local/lib/python3.10/dist-packages (from openai<2.0.0,>=1.24.0->langchain-openai) (1.3.1)\n",
            "Requirement already satisfied: tqdm>4 in /usr/local/lib/python3.10/dist-packages (from openai<2.0.0,>=1.24.0->langchain-openai) (4.66.2)\n",
            "Requirement already satisfied: typing-extensions<5,>=4.7 in /usr/local/lib/python3.10/dist-packages (from openai<2.0.0,>=1.24.0->langchain-openai) (4.11.0)\n",
            "Requirement already satisfied: regex>=2022.1.18 in /usr/local/lib/python3.10/dist-packages (from tiktoken<1,>=0.5.2->langchain-openai) (2023.12.25)\n",
            "Requirement already satisfied: requests>=2.26.0 in /usr/local/lib/python3.10/dist-packages (from tiktoken<1,>=0.5.2->langchain-openai) (2.31.0)\n",
            "Requirement already satisfied: idna>=2.8 in /usr/local/lib/python3.10/dist-packages (from anyio<5,>=3.5.0->openai<2.0.0,>=1.24.0->langchain-openai) (3.7)\n",
            "Requirement already satisfied: exceptiongroup in /usr/local/lib/python3.10/dist-packages (from anyio<5,>=3.5.0->openai<2.0.0,>=1.24.0->langchain-openai) (1.2.1)\n",
            "Requirement already satisfied: certifi in /usr/local/lib/python3.10/dist-packages (from httpx<1,>=0.23.0->openai<2.0.0,>=1.24.0->langchain-openai) (2024.2.2)\n",
            "Requirement already satisfied: httpcore==1.* in /usr/local/lib/python3.10/dist-packages (from httpx<1,>=0.23.0->openai<2.0.0,>=1.24.0->langchain-openai) (1.0.5)\n",
            "Requirement already satisfied: h11<0.15,>=0.13 in /usr/local/lib/python3.10/dist-packages (from httpcore==1.*->httpx<1,>=0.23.0->openai<2.0.0,>=1.24.0->langchain-openai) (0.14.0)\n",
            "Requirement already satisfied: jsonpointer>=1.9 in /usr/local/lib/python3.10/dist-packages (from jsonpatch<2.0,>=1.33->langchain-core<0.2.0,>=0.1.46->langchain-openai) (2.4)\n",
            "Requirement already satisfied: orjson<4.0.0,>=3.9.14 in /usr/local/lib/python3.10/dist-packages (from langsmith<0.2.0,>=0.1.0->langchain-core<0.2.0,>=0.1.46->langchain-openai) (3.10.3)\n",
            "Requirement already satisfied: annotated-types>=0.4.0 in /usr/local/lib/python3.10/dist-packages (from pydantic<3,>=1->langchain-core<0.2.0,>=0.1.46->langchain-openai) (0.6.0)\n",
            "Requirement already satisfied: pydantic-core==2.18.2 in /usr/local/lib/python3.10/dist-packages (from pydantic<3,>=1->langchain-core<0.2.0,>=0.1.46->langchain-openai) (2.18.2)\n",
            "Requirement already satisfied: charset-normalizer<4,>=2 in /usr/local/lib/python3.10/dist-packages (from requests>=2.26.0->tiktoken<1,>=0.5.2->langchain-openai) (3.3.2)\n",
            "Requirement already satisfied: urllib3<3,>=1.21.1 in /usr/local/lib/python3.10/dist-packages (from requests>=2.26.0->tiktoken<1,>=0.5.2->langchain-openai) (2.0.7)\n",
            "Requirement already satisfied: langchain-community in /usr/local/lib/python3.10/dist-packages (0.0.36)\n",
            "Requirement already satisfied: PyYAML>=5.3 in /usr/local/lib/python3.10/dist-packages (from langchain-community) (6.0.1)\n",
            "Requirement already satisfied: SQLAlchemy<3,>=1.4 in /usr/local/lib/python3.10/dist-packages (from langchain-community) (2.0.29)\n",
            "Requirement already satisfied: aiohttp<4.0.0,>=3.8.3 in /usr/local/lib/python3.10/dist-packages (from langchain-community) (3.9.5)\n",
            "Requirement already satisfied: dataclasses-json<0.7,>=0.5.7 in /usr/local/lib/python3.10/dist-packages (from langchain-community) (0.6.5)\n",
            "Requirement already satisfied: langchain-core<0.2.0,>=0.1.48 in /usr/local/lib/python3.10/dist-packages (from langchain-community) (0.1.50)\n",
            "Requirement already satisfied: langsmith<0.2.0,>=0.1.0 in /usr/local/lib/python3.10/dist-packages (from langchain-community) (0.1.53)\n",
            "Requirement already satisfied: numpy<2,>=1 in /usr/local/lib/python3.10/dist-packages (from langchain-community) (1.25.2)\n",
            "Requirement already satisfied: requests<3,>=2 in /usr/local/lib/python3.10/dist-packages (from langchain-community) (2.31.0)\n",
            "Requirement already satisfied: tenacity<9.0.0,>=8.1.0 in /usr/local/lib/python3.10/dist-packages (from langchain-community) (8.2.3)\n",
            "Requirement already satisfied: aiosignal>=1.1.2 in /usr/local/lib/python3.10/dist-packages (from aiohttp<4.0.0,>=3.8.3->langchain-community) (1.3.1)\n",
            "Requirement already satisfied: attrs>=17.3.0 in /usr/local/lib/python3.10/dist-packages (from aiohttp<4.0.0,>=3.8.3->langchain-community) (23.2.0)\n",
            "Requirement already satisfied: frozenlist>=1.1.1 in /usr/local/lib/python3.10/dist-packages (from aiohttp<4.0.0,>=3.8.3->langchain-community) (1.4.1)\n",
            "Requirement already satisfied: multidict<7.0,>=4.5 in /usr/local/lib/python3.10/dist-packages (from aiohttp<4.0.0,>=3.8.3->langchain-community) (6.0.5)\n",
            "Requirement already satisfied: yarl<2.0,>=1.0 in /usr/local/lib/python3.10/dist-packages (from aiohttp<4.0.0,>=3.8.3->langchain-community) (1.9.4)\n",
            "Requirement already satisfied: async-timeout<5.0,>=4.0 in /usr/local/lib/python3.10/dist-packages (from aiohttp<4.0.0,>=3.8.3->langchain-community) (4.0.3)\n",
            "Requirement already satisfied: marshmallow<4.0.0,>=3.18.0 in /usr/local/lib/python3.10/dist-packages (from dataclasses-json<0.7,>=0.5.7->langchain-community) (3.21.2)\n",
            "Requirement already satisfied: typing-inspect<1,>=0.4.0 in /usr/local/lib/python3.10/dist-packages (from dataclasses-json<0.7,>=0.5.7->langchain-community) (0.9.0)\n",
            "Requirement already satisfied: jsonpatch<2.0,>=1.33 in /usr/local/lib/python3.10/dist-packages (from langchain-core<0.2.0,>=0.1.48->langchain-community) (1.33)\n",
            "Requirement already satisfied: packaging<24.0,>=23.2 in /usr/local/lib/python3.10/dist-packages (from langchain-core<0.2.0,>=0.1.48->langchain-community) (23.2)\n",
            "Requirement already satisfied: pydantic<3,>=1 in /usr/local/lib/python3.10/dist-packages (from langchain-core<0.2.0,>=0.1.48->langchain-community) (2.7.1)\n",
            "Requirement already satisfied: orjson<4.0.0,>=3.9.14 in /usr/local/lib/python3.10/dist-packages (from langsmith<0.2.0,>=0.1.0->langchain-community) (3.10.3)\n",
            "Requirement already satisfied: charset-normalizer<4,>=2 in /usr/local/lib/python3.10/dist-packages (from requests<3,>=2->langchain-community) (3.3.2)\n",
            "Requirement already satisfied: idna<4,>=2.5 in /usr/local/lib/python3.10/dist-packages (from requests<3,>=2->langchain-community) (3.7)\n",
            "Requirement already satisfied: urllib3<3,>=1.21.1 in /usr/local/lib/python3.10/dist-packages (from requests<3,>=2->langchain-community) (2.0.7)\n",
            "Requirement already satisfied: certifi>=2017.4.17 in /usr/local/lib/python3.10/dist-packages (from requests<3,>=2->langchain-community) (2024.2.2)\n",
            "Requirement already satisfied: typing-extensions>=4.6.0 in /usr/local/lib/python3.10/dist-packages (from SQLAlchemy<3,>=1.4->langchain-community) (4.11.0)\n",
            "Requirement already satisfied: greenlet!=0.4.17 in /usr/local/lib/python3.10/dist-packages (from SQLAlchemy<3,>=1.4->langchain-community) (3.0.3)\n",
            "Requirement already satisfied: jsonpointer>=1.9 in /usr/local/lib/python3.10/dist-packages (from jsonpatch<2.0,>=1.33->langchain-core<0.2.0,>=0.1.48->langchain-community) (2.4)\n",
            "Requirement already satisfied: annotated-types>=0.4.0 in /usr/local/lib/python3.10/dist-packages (from pydantic<3,>=1->langchain-core<0.2.0,>=0.1.48->langchain-community) (0.6.0)\n",
            "Requirement already satisfied: pydantic-core==2.18.2 in /usr/local/lib/python3.10/dist-packages (from pydantic<3,>=1->langchain-core<0.2.0,>=0.1.48->langchain-community) (2.18.2)\n",
            "Requirement already satisfied: mypy-extensions>=0.3.0 in /usr/local/lib/python3.10/dist-packages (from typing-inspect<1,>=0.4.0->dataclasses-json<0.7,>=0.5.7->langchain-community) (1.0.0)\n",
            "Requirement already satisfied: pypdf in /usr/local/lib/python3.10/dist-packages (4.2.0)\n",
            "Requirement already satisfied: typing_extensions>=4.0 in /usr/local/lib/python3.10/dist-packages (from pypdf) (4.11.0)\n",
            "Requirement already satisfied: langchain in /usr/local/lib/python3.10/dist-packages (0.1.17)\n",
            "Requirement already satisfied: PyYAML>=5.3 in /usr/local/lib/python3.10/dist-packages (from langchain) (6.0.1)\n",
            "Requirement already satisfied: SQLAlchemy<3,>=1.4 in /usr/local/lib/python3.10/dist-packages (from langchain) (2.0.29)\n",
            "Requirement already satisfied: aiohttp<4.0.0,>=3.8.3 in /usr/local/lib/python3.10/dist-packages (from langchain) (3.9.5)\n",
            "Requirement already satisfied: async-timeout<5.0.0,>=4.0.0 in /usr/local/lib/python3.10/dist-packages (from langchain) (4.0.3)\n",
            "Requirement already satisfied: dataclasses-json<0.7,>=0.5.7 in /usr/local/lib/python3.10/dist-packages (from langchain) (0.6.5)\n",
            "Requirement already satisfied: jsonpatch<2.0,>=1.33 in /usr/local/lib/python3.10/dist-packages (from langchain) (1.33)\n",
            "Requirement already satisfied: langchain-community<0.1,>=0.0.36 in /usr/local/lib/python3.10/dist-packages (from langchain) (0.0.36)\n",
            "Requirement already satisfied: langchain-core<0.2.0,>=0.1.48 in /usr/local/lib/python3.10/dist-packages (from langchain) (0.1.50)\n",
            "Requirement already satisfied: langchain-text-splitters<0.1,>=0.0.1 in /usr/local/lib/python3.10/dist-packages (from langchain) (0.0.1)\n",
            "Requirement already satisfied: langsmith<0.2.0,>=0.1.17 in /usr/local/lib/python3.10/dist-packages (from langchain) (0.1.53)\n",
            "Requirement already satisfied: numpy<2,>=1 in /usr/local/lib/python3.10/dist-packages (from langchain) (1.25.2)\n",
            "Requirement already satisfied: pydantic<3,>=1 in /usr/local/lib/python3.10/dist-packages (from langchain) (2.7.1)\n",
            "Requirement already satisfied: requests<3,>=2 in /usr/local/lib/python3.10/dist-packages (from langchain) (2.31.0)\n",
            "Requirement already satisfied: tenacity<9.0.0,>=8.1.0 in /usr/local/lib/python3.10/dist-packages (from langchain) (8.2.3)\n",
            "Requirement already satisfied: aiosignal>=1.1.2 in /usr/local/lib/python3.10/dist-packages (from aiohttp<4.0.0,>=3.8.3->langchain) (1.3.1)\n",
            "Requirement already satisfied: attrs>=17.3.0 in /usr/local/lib/python3.10/dist-packages (from aiohttp<4.0.0,>=3.8.3->langchain) (23.2.0)\n",
            "Requirement already satisfied: frozenlist>=1.1.1 in /usr/local/lib/python3.10/dist-packages (from aiohttp<4.0.0,>=3.8.3->langchain) (1.4.1)\n",
            "Requirement already satisfied: multidict<7.0,>=4.5 in /usr/local/lib/python3.10/dist-packages (from aiohttp<4.0.0,>=3.8.3->langchain) (6.0.5)\n",
            "Requirement already satisfied: yarl<2.0,>=1.0 in /usr/local/lib/python3.10/dist-packages (from aiohttp<4.0.0,>=3.8.3->langchain) (1.9.4)\n",
            "Requirement already satisfied: marshmallow<4.0.0,>=3.18.0 in /usr/local/lib/python3.10/dist-packages (from dataclasses-json<0.7,>=0.5.7->langchain) (3.21.2)\n",
            "Requirement already satisfied: typing-inspect<1,>=0.4.0 in /usr/local/lib/python3.10/dist-packages (from dataclasses-json<0.7,>=0.5.7->langchain) (0.9.0)\n",
            "Requirement already satisfied: jsonpointer>=1.9 in /usr/local/lib/python3.10/dist-packages (from jsonpatch<2.0,>=1.33->langchain) (2.4)\n",
            "Requirement already satisfied: packaging<24.0,>=23.2 in /usr/local/lib/python3.10/dist-packages (from langchain-core<0.2.0,>=0.1.48->langchain) (23.2)\n",
            "Requirement already satisfied: orjson<4.0.0,>=3.9.14 in /usr/local/lib/python3.10/dist-packages (from langsmith<0.2.0,>=0.1.17->langchain) (3.10.3)\n",
            "Requirement already satisfied: annotated-types>=0.4.0 in /usr/local/lib/python3.10/dist-packages (from pydantic<3,>=1->langchain) (0.6.0)\n",
            "Requirement already satisfied: pydantic-core==2.18.2 in /usr/local/lib/python3.10/dist-packages (from pydantic<3,>=1->langchain) (2.18.2)\n",
            "Requirement already satisfied: typing-extensions>=4.6.1 in /usr/local/lib/python3.10/dist-packages (from pydantic<3,>=1->langchain) (4.11.0)\n",
            "Requirement already satisfied: charset-normalizer<4,>=2 in /usr/local/lib/python3.10/dist-packages (from requests<3,>=2->langchain) (3.3.2)\n",
            "Requirement already satisfied: idna<4,>=2.5 in /usr/local/lib/python3.10/dist-packages (from requests<3,>=2->langchain) (3.7)\n",
            "Requirement already satisfied: urllib3<3,>=1.21.1 in /usr/local/lib/python3.10/dist-packages (from requests<3,>=2->langchain) (2.0.7)\n",
            "Requirement already satisfied: certifi>=2017.4.17 in /usr/local/lib/python3.10/dist-packages (from requests<3,>=2->langchain) (2024.2.2)\n",
            "Requirement already satisfied: greenlet!=0.4.17 in /usr/local/lib/python3.10/dist-packages (from SQLAlchemy<3,>=1.4->langchain) (3.0.3)\n",
            "Requirement already satisfied: mypy-extensions>=0.3.0 in /usr/local/lib/python3.10/dist-packages (from typing-inspect<1,>=0.4.0->dataclasses-json<0.7,>=0.5.7->langchain) (1.0.0)\n",
            "Requirement already satisfied: docarray in /usr/local/lib/python3.10/dist-packages (0.40.0)\n",
            "Requirement already satisfied: numpy>=1.17.3 in /usr/local/lib/python3.10/dist-packages (from docarray) (1.25.2)\n",
            "Requirement already satisfied: orjson>=3.8.2 in /usr/local/lib/python3.10/dist-packages (from docarray) (3.10.3)\n",
            "Requirement already satisfied: pydantic>=1.10.8 in /usr/local/lib/python3.10/dist-packages (from docarray) (2.7.1)\n",
            "Requirement already satisfied: rich>=13.1.0 in /usr/local/lib/python3.10/dist-packages (from docarray) (13.7.1)\n",
            "Requirement already satisfied: types-requests>=2.28.11.6 in /usr/local/lib/python3.10/dist-packages (from docarray) (2.31.0.20240406)\n",
            "Requirement already satisfied: typing-inspect>=0.8.0 in /usr/local/lib/python3.10/dist-packages (from docarray) (0.9.0)\n",
            "Requirement already satisfied: annotated-types>=0.4.0 in /usr/local/lib/python3.10/dist-packages (from pydantic>=1.10.8->docarray) (0.6.0)\n",
            "Requirement already satisfied: pydantic-core==2.18.2 in /usr/local/lib/python3.10/dist-packages (from pydantic>=1.10.8->docarray) (2.18.2)\n",
            "Requirement already satisfied: typing-extensions>=4.6.1 in /usr/local/lib/python3.10/dist-packages (from pydantic>=1.10.8->docarray) (4.11.0)\n",
            "Requirement already satisfied: markdown-it-py>=2.2.0 in /usr/local/lib/python3.10/dist-packages (from rich>=13.1.0->docarray) (3.0.0)\n",
            "Requirement already satisfied: pygments<3.0.0,>=2.13.0 in /usr/local/lib/python3.10/dist-packages (from rich>=13.1.0->docarray) (2.16.1)\n",
            "Requirement already satisfied: urllib3>=2 in /usr/local/lib/python3.10/dist-packages (from types-requests>=2.28.11.6->docarray) (2.0.7)\n",
            "Requirement already satisfied: mypy-extensions>=0.3.0 in /usr/local/lib/python3.10/dist-packages (from typing-inspect>=0.8.0->docarray) (1.0.0)\n",
            "Requirement already satisfied: mdurl~=0.1 in /usr/local/lib/python3.10/dist-packages (from markdown-it-py>=2.2.0->rich>=13.1.0->docarray) (0.1.2)\n",
            "Requirement already satisfied: langchain_pinecone in /usr/local/lib/python3.10/dist-packages (0.1.0)\n",
            "Requirement already satisfied: langchain-core<0.2.0,>=0.1.40 in /usr/local/lib/python3.10/dist-packages (from langchain_pinecone) (0.1.50)\n",
            "Requirement already satisfied: numpy<2,>=1 in /usr/local/lib/python3.10/dist-packages (from langchain_pinecone) (1.25.2)\n",
            "Requirement already satisfied: pinecone-client<4.0.0,>=3.2.2 in /usr/local/lib/python3.10/dist-packages (from langchain_pinecone) (3.2.2)\n",
            "Requirement already satisfied: PyYAML>=5.3 in /usr/local/lib/python3.10/dist-packages (from langchain-core<0.2.0,>=0.1.40->langchain_pinecone) (6.0.1)\n",
            "Requirement already satisfied: jsonpatch<2.0,>=1.33 in /usr/local/lib/python3.10/dist-packages (from langchain-core<0.2.0,>=0.1.40->langchain_pinecone) (1.33)\n",
            "Requirement already satisfied: langsmith<0.2.0,>=0.1.0 in /usr/local/lib/python3.10/dist-packages (from langchain-core<0.2.0,>=0.1.40->langchain_pinecone) (0.1.53)\n",
            "Requirement already satisfied: packaging<24.0,>=23.2 in /usr/local/lib/python3.10/dist-packages (from langchain-core<0.2.0,>=0.1.40->langchain_pinecone) (23.2)\n",
            "Requirement already satisfied: pydantic<3,>=1 in /usr/local/lib/python3.10/dist-packages (from langchain-core<0.2.0,>=0.1.40->langchain_pinecone) (2.7.1)\n",
            "Requirement already satisfied: tenacity<9.0.0,>=8.1.0 in /usr/local/lib/python3.10/dist-packages (from langchain-core<0.2.0,>=0.1.40->langchain_pinecone) (8.2.3)\n",
            "Requirement already satisfied: certifi>=2019.11.17 in /usr/local/lib/python3.10/dist-packages (from pinecone-client<4.0.0,>=3.2.2->langchain_pinecone) (2024.2.2)\n",
            "Requirement already satisfied: tqdm>=4.64.1 in /usr/local/lib/python3.10/dist-packages (from pinecone-client<4.0.0,>=3.2.2->langchain_pinecone) (4.66.2)\n",
            "Requirement already satisfied: typing-extensions>=3.7.4 in /usr/local/lib/python3.10/dist-packages (from pinecone-client<4.0.0,>=3.2.2->langchain_pinecone) (4.11.0)\n",
            "Requirement already satisfied: urllib3>=1.26.0 in /usr/local/lib/python3.10/dist-packages (from pinecone-client<4.0.0,>=3.2.2->langchain_pinecone) (2.0.7)\n",
            "Requirement already satisfied: jsonpointer>=1.9 in /usr/local/lib/python3.10/dist-packages (from jsonpatch<2.0,>=1.33->langchain-core<0.2.0,>=0.1.40->langchain_pinecone) (2.4)\n",
            "Requirement already satisfied: orjson<4.0.0,>=3.9.14 in /usr/local/lib/python3.10/dist-packages (from langsmith<0.2.0,>=0.1.0->langchain-core<0.2.0,>=0.1.40->langchain_pinecone) (3.10.3)\n",
            "Requirement already satisfied: requests<3,>=2 in /usr/local/lib/python3.10/dist-packages (from langsmith<0.2.0,>=0.1.0->langchain-core<0.2.0,>=0.1.40->langchain_pinecone) (2.31.0)\n",
            "Requirement already satisfied: annotated-types>=0.4.0 in /usr/local/lib/python3.10/dist-packages (from pydantic<3,>=1->langchain-core<0.2.0,>=0.1.40->langchain_pinecone) (0.6.0)\n",
            "Requirement already satisfied: pydantic-core==2.18.2 in /usr/local/lib/python3.10/dist-packages (from pydantic<3,>=1->langchain-core<0.2.0,>=0.1.40->langchain_pinecone) (2.18.2)\n",
            "Requirement already satisfied: charset-normalizer<4,>=2 in /usr/local/lib/python3.10/dist-packages (from requests<3,>=2->langsmith<0.2.0,>=0.1.0->langchain-core<0.2.0,>=0.1.40->langchain_pinecone) (3.3.2)\n",
            "Requirement already satisfied: idna<4,>=2.5 in /usr/local/lib/python3.10/dist-packages (from requests<3,>=2->langsmith<0.2.0,>=0.1.0->langchain-core<0.2.0,>=0.1.40->langchain_pinecone) (3.7)\n",
            "sk-proj-MTaTUA3Sn5aHuXX7kW1xT3BlbkFJHc5d3oDJkbJFlY7kiZQC\n",
            "6ce2990a-7aaa-455c-8ea7-0a8470afb8d0\n"
          ]
        }
      ]
    },
    {
      "cell_type": "markdown",
      "source": [
        "## **Configuración del modelo**\n",
        "\n",
        "Vamos a establecer el modelo de LLM que utilizaremos en nuestro flujo de trabajo."
      ],
      "metadata": {
        "id": "55Eq4BqmAq6k"
      }
    },
    {
      "cell_type": "code",
      "source": [
        "from langchain_openai.chat_models import ChatOpenAI\n",
        "\n",
        "model = ChatOpenAI(openai_api_key=OPENAI_API_KEY, model=\"gpt-3.5-turbo\")"
      ],
      "metadata": {
        "id": "FvPrQXhyAwZj"
      },
      "execution_count": null,
      "outputs": []
    },
    {
      "cell_type": "markdown",
      "source": [
        "Probamos que la configuración funciona preguntado algo al modelo\n",
        "\n"
      ],
      "metadata": {
        "id": "KTF-s9eYBr3O"
      }
    },
    {
      "cell_type": "code",
      "source": [
        "model.invoke(\"2+2\")"
      ],
      "metadata": {
        "colab": {
          "base_uri": "https://localhost:8080/"
        },
        "id": "Nh-QfttSBvtD",
        "outputId": "5fc45aa7-fc6b-4b38-8f0c-d16396fd5d86"
      },
      "execution_count": null,
      "outputs": [
        {
          "output_type": "execute_result",
          "data": {
            "text/plain": [
              "AIMessage(content='2+2 = 4', response_metadata={'token_usage': {'completion_tokens': 6, 'prompt_tokens': 10, 'total_tokens': 16}, 'model_name': 'gpt-3.5-turbo', 'system_fingerprint': 'fp_3b956da36b', 'finish_reason': 'stop', 'logprobs': None}, id='run-e2661e3b-f523-47d6-95c7-3558d6844887-0')"
            ]
          },
          "metadata": {},
          "execution_count": 6
        }
      ]
    },
    {
      "cell_type": "markdown",
      "source": [
        "Vamos a parsear la respuesta para solo obtener el valor de content='2 + 2 equals 4.'\n",
        "\n",
        "2 + 2 equals 4.\n"
      ],
      "metadata": {
        "id": "nSBGixOYEROm"
      }
    },
    {
      "cell_type": "code",
      "source": [
        "from langchain_core.output_parsers import StrOutputParser\n",
        "\n",
        "parser = StrOutputParser()\n",
        "\n",
        "chain = model | parser\n",
        "chain.invoke(\"2+2\")"
      ],
      "metadata": {
        "colab": {
          "base_uri": "https://localhost:8080/",
          "height": 35
        },
        "id": "09KQO623EY8f",
        "outputId": "852a0aaf-a228-4609-bba0-89a7777d9a5b"
      },
      "execution_count": null,
      "outputs": [
        {
          "output_type": "execute_result",
          "data": {
            "text/plain": [
              "'4'"
            ],
            "application/vnd.google.colaboratory.intrinsic+json": {
              "type": "string"
            }
          },
          "metadata": {},
          "execution_count": 7
        }
      ]
    },
    {
      "cell_type": "markdown",
      "source": [
        "## **Prompt Template**\n",
        "\n",
        "Las plantillas de prompts son recetas predefinidas para generar prompts para modelos de lenguaje.\n",
        "\n",
        "Una plantilla puede incluir instrucciones, ejemplos de pocos disparos y un contexto y preguntas específicos apropiados para una tarea dada.\n",
        "\n",
        "[LangChain](https://python.langchain.com/docs/modules/model_io/prompts/quick_start/) proporciona herramientas para crear y trabajar con plantillas de prompts."
      ],
      "metadata": {
        "id": "Vcrv0mjWHKtz"
      }
    },
    {
      "cell_type": "code",
      "source": [
        "from langchain_core.prompts import ChatPromptTemplate\n",
        "\n",
        "template = \"\"\"\n",
        "Responde a la pregunta basándote en el contexto a continuación. Si no puedes responder la pregunta, responde \"No sé\".\n",
        "\n",
        "Contexto: {context}\n",
        "\n",
        "Pregunta: {question}\n",
        "\"\"\"\n",
        "\n",
        "prompt = ChatPromptTemplate.from_template(template)\n",
        "prompt.format(context=\"LLM tiene un bonus a los trabajadores del 60% de su sueldo\", question=\"¿Cuanto es el bonus en LLM?\")"
      ],
      "metadata": {
        "colab": {
          "base_uri": "https://localhost:8080/",
          "height": 53
        },
        "id": "9AwjWxPfHszY",
        "outputId": "1b185f1e-0bc8-497c-b054-156a480bc984"
      },
      "execution_count": null,
      "outputs": [
        {
          "output_type": "execute_result",
          "data": {
            "text/plain": [
              "'Human: \\nResponde a la pregunta basándote en el contexto a continuación. Si no puedes responder la pregunta, responde \"No sé\".\\n\\nContexto: LLM tiene un bonus a los trabajadores del 60% de su sueldo\\n\\nPregunta: ¿Cuanto es el bonus en LLM?\\n'"
            ],
            "application/vnd.google.colaboratory.intrinsic+json": {
              "type": "string"
            }
          },
          "metadata": {},
          "execution_count": 8
        }
      ]
    },
    {
      "cell_type": "markdown",
      "source": [
        "## **Ahora podemos añadir a la cadena un nuevo componente el prompt**\n",
        "prompt + model + parser"
      ],
      "metadata": {
        "id": "M_-x4kw9d7Ir"
      }
    },
    {
      "cell_type": "code",
      "source": [
        "chain = prompt | model | parser\n",
        "chain.invoke({\n",
        "    \"context\": \"LLM tiene un bonus a los trabajadores del 60% de su sueldo\",\n",
        "    \"question\": \"¿Cuanto es el bonus en LLM?\"\n",
        "})"
      ],
      "metadata": {
        "colab": {
          "base_uri": "https://localhost:8080/",
          "height": 35
        },
        "id": "M1k4bZIleFE3",
        "outputId": "1e4944b6-995d-45d5-c7be-2e61707877d1"
      },
      "execution_count": null,
      "outputs": [
        {
          "output_type": "execute_result",
          "data": {
            "text/plain": [
              "'El bonus en LLM sería del 60% del sueldo de los trabajadores.'"
            ],
            "application/vnd.google.colaboratory.intrinsic+json": {
              "type": "string"
            }
          },
          "metadata": {},
          "execution_count": 9
        }
      ]
    },
    {
      "cell_type": "markdown",
      "source": [
        "## **Combinar chains**\n",
        "\n",
        "Podemos combinar diferentes cadenas para crear flujos de trabajo más complejos. Por ejemplo, creemos una segunda cadena que traduzca la respuesta de la primera cadena a un idioma diferente.\n",
        "\n",
        "\n"
      ],
      "metadata": {
        "id": "_5LKOprKf6Op"
      }
    },
    {
      "cell_type": "code",
      "source": [
        "translation_prompt = ChatPromptTemplate.from_template(\n",
        "    \"Traduce {answer} al {language}\"\n",
        ")"
      ],
      "metadata": {
        "id": "bLRoOwkmgMBe"
      },
      "execution_count": null,
      "outputs": []
    },
    {
      "cell_type": "code",
      "source": [
        "from operator import itemgetter\n",
        "\n",
        "translation_chain = (\n",
        "    {\"answer\": chain, \"language\": itemgetter(\"language\")} | translation_prompt | model | parser\n",
        ")\n",
        "\n",
        "translation_chain.invoke(\n",
        "    {\n",
        "        \"context\": \"LLM tiene un bonus a los trabajadores del 60% de su sueldo\",\n",
        "        \"question\": \"¿Cuanto es el bonus en LLM?\",\n",
        "        \"language\": \"English\",\n",
        "    }\n",
        ")"
      ],
      "metadata": {
        "colab": {
          "base_uri": "https://localhost:8080/",
          "height": 35
        },
        "id": "8b5LqBJSgU59",
        "outputId": "37feeddb-dbe4-459f-fd7a-6bd861e568a5"
      },
      "execution_count": null,
      "outputs": [
        {
          "output_type": "execute_result",
          "data": {
            "text/plain": [
              "'The bonus in LLM is 60% of the salary.'"
            ],
            "application/vnd.google.colaboratory.intrinsic+json": {
              "type": "string"
            }
          },
          "metadata": {},
          "execution_count": 11
        }
      ]
    },
    {
      "cell_type": "markdown",
      "source": [
        "Cargamos el pdf o txt en memoria"
      ],
      "metadata": {
        "id": "TMmpnkwivWgs"
      }
    },
    {
      "cell_type": "code",
      "source": [
        "from langchain_community.document_loaders import TextLoader\n",
        "from langchain_community.document_loaders import PyPDFLoader\n",
        "\n",
        "\n",
        "#loader = TextLoader(\"/data/v1/llm.txt\")\n",
        "loader = PyPDFLoader(\"llm.pdf\");\n",
        "text_documents = loader.load()\n",
        "text_documents"
      ],
      "metadata": {
        "colab": {
          "base_uri": "https://localhost:8080/"
        },
        "id": "DL6QJJojvbhh",
        "outputId": "9855e7b0-f64e-4fcf-c171-941883287b2b"
      },
      "execution_count": null,
      "outputs": [
        {
          "output_type": "execute_result",
          "data": {
            "text/plain": [
              "[Document(page_content='LLM Sociedad Anonima\\u2029', metadata={'source': 'llm.pdf', 'page': 0}),\n",
              " Document(page_content='Beneﬁcios al Empleado.Seguro de Salud Integral: Cobertura completa para el empleado y su familia, incluyendo consultas médicas, tratamientos especializados y hospitalización y dentista. Programa de Bienestar Mental: Acceso a terapias psicológicas y programas de manejo del estrés para promover la salud mental y el bienestar emocional.Horario Flexible: Posibilidad de ajustar los horarios de entrada y salida, y la opción de trabajo remoto para equilibrar las responsabilidades laborales y personales.Boniﬁcaciones Anuales: Bonos de rendimiento basados en los resultados personales y los de la empresa, pagaderos al ﬁnal de cada año ﬁscal. Bonus máximo del 60% de tu salario. Capacitación y Desarrollo: Programas de capacitación profesional y acceso a cursos para el desarrollo de habilidades personales y profesionales.Licencia Parental Extendida: Licencias por maternidad y paternidad extendidas, superiores a las estipuladas por la ley, para apoyar a los nuevos padres. Puedes estar un año de licencia parental sin dar explicaciones. Gimnasio en la Empresa o Membresías Deportivas: Instalaciones deportivas en el lugar de trabajo o membresías ﬁnanciadas para gimnasios locales. Incluido pistas de papel.Días de Voluntariado Pagados: Oportunidades para participar en actividades de voluntariado durante el horario laboral sin pérdida de salario.Plan de Pensiones Mejorado: Contribuciones signiﬁcativas de la empresa a los planes de pensiones para asegurar un futuro ﬁnanciero estable. Un plan de pensiones del 20% de tu salario pagado por la empresa. Seguro de Vida y de Accidentes: Polizas que ofrecen seguridad ﬁnanciera para los familiares en caso de fallecimiento o accidente grave del empleado.Días adicionales de vacaciones: Más allá de lo estipulado por ley, aumentando con los años de antigüedad en la empresa. Los empleados de LLM tienen un mínimo de 50 días de vacaciones anuales. Subsidio para Cuidado de Niños: Ayuda económica para gastos asociados con el cuidado de los hijos, facilitando la conciliación familiar.Subsidio de Transporte: Compensación por gastos de transporte público o privado para reducir la carga ﬁnanciera del traslado al trabajo. El subsidio de transportes es de 100 euros al mes. Descuentos Corporativos: Acuerdos con diferentes comercios y servicios para ofrecer descuentos a los empleados.Programa de Tutoría Profesional: Acceso a mentores internos para orientación y apoyo en el desarrollo de la carrera profesional.Espacios de Trabajo Modernos: Oﬁcinas equipadas con la tecnología más moderna y áreas de descanso para maximizar la productividad y el confort.', metadata={'source': 'llm.pdf', 'page': 1}),\n",
              " Document(page_content='Snacks y Bebidas Gratuitos: Disponibilidad continua de alimentos y bebidas saludables en el lugar de trabajo.Días de Compensación por Horas Extras: Compensación con días libres por horas trabajadas más allá de la jornada regular.Eventos de Integración Social y Familiar: Organización de eventos y actividades sociales para fortalecer la camaradería entre empleados y sus familias.', metadata={'source': 'llm.pdf', 'page': 2}),\n",
              " Document(page_content='Recursos Humanos¿Cómo puedo postularme a un puesto en LLM S.A.?Puedes enviar tu currículum y carta de presentación a través de nuestra página web en la sección de Carreras o directamente al correo electrónico de recursos humanos.¿Qué habilidades buscan en los candidatos?Buscamos habilidades técnicas especíﬁcas relacionadas con la consultoría informática, como programación, análisis de sistemas y gestión de proyectos, además de habilidades blandas como comunicación efectiva y trabajo en equipo.¿Ofrecen oportunidades de trabajo remoto?Sí, dependiendo del proyecto y del rol, ofrecemos opciones de trabajo remoto para adaptarnos a las necesidades de nuestros empleados y clientes.¿Qué tipo de beneﬁcios ofrece la empresa?Ofrecemos varios beneﬁcios, incluyendo seguro médico, programas de bienestar, opciones de trabajo ﬂexible y oportunidades de formación y desarrollo profesional.¿Cómo es el proceso de entrevista?Nuestro proceso típicamente incluye una entrevista telefónica inicial, seguida de una o más entrevistas técnicas y de comportamiento con miembros del equipo de RH y el departamento técnico.¿Cómo fomentan el desarrollo profesional?Proporcionamos acceso a cursos de capacitación, certiﬁcaciones profesionales y conferencias del sector, además de mentorías internas para el desarrollo de carrera.¿Cuál es la cultura laboral en LLM S.A.?Valoramos la innovación, el compromiso y la colaboración. Nuestro ambiente de trabajo es dinámico y fomenta la participación activa de todos los empleados en la toma de decisiones.¿Cuánto tiempo suele durar el proceso de selección?El proceso puede durar entre dos semanas y dos meses, dependiendo del rol y de la urgencia de la contratación.¿Cómo manejan las evaluaciones de desempeño?Realizamos evaluaciones de desempeño anuales y semestrales para discutir logros, establecer objetivos y planiﬁcar el desarrollo profesional.¿Ofrecen prácticas o pasantías?Sí, ofrecemos programas de pasantías durante el verano y a lo largo del año en varios departamentos para estudiantes universitarios y recién graduados.¿Cómo es la política de vacaciones en la empresa?Ofrecemos vacaciones pagadas competitivas, que aumentan con la antigüedad en la empresa, además de días feriados y permisos especiales.¿Tienen algún programa de referidos?Sí, tenemos un programa de referidos que premia a los empleados por recomendar candidatos exitosos para las posiciones abiertas.¿Qué oportunidades de ascenso existen en LLM S.A.?Promovemos el crecimiento interno y ofrecemos múltiples oportunidades de ascenso a través de evaluaciones de desempeño y necesidades organizacionales.', metadata={'source': 'llm.pdf', 'page': 3}),\n",
              " Document(page_content='¿Qué pasa si necesito una adaptación especial por una discapacidad?Adaptamos el puesto de trabajo según las necesidades especíﬁcas de nuestros empleados para asegurar su comodidad y productividad.¿Cómo puedo obtener feedback después de una entrevista?Los candidatos pueden esperar recibir feedback dentro de una semana después de su última entrevista, ya sea por correo electrónico o teléfono.¿Tienen algún código de vestimenta?Nuestro código de vestimenta es business casual, pero se adapta según el rol y las necesidades del cliente.¿Cómo manejan los conﬂictos laborales?Tenemos un proceso claro para la resolución de conﬂictos que incluye mediación y, si es necesario, intervención de recursos humanos para garantizar un entorno de trabajo justo.¿Cómo se manejan los aumentos salariales?Los aumentos se basan en el desempeño individual, los resultados de la empresa y las evaluaciones periódicas.¿Qué medidas están tomando respecto a COVID-19?Seguimos las recomendaciones de las autoridades sanitarias y hemos implementado políticas de trabajo remoto, medidas de higiene en la oﬁcina y protocolos de salud para proteger a nuestros empleados.', metadata={'source': 'llm.pdf', 'page': 4}),\n",
              " Document(page_content='Banca LLMMe han robado o he perdido una tarjetaSi has sufrido un robo de tu tarjeta, crees que te la han duplicado o la has perdido, lo primero que debes hacer es anularla. Bloquea tu tarjeta de crédito o débito directamente desde el botón “Bloquear mis tarjetas”. Recuerda que antes de proceder con la anulación de una o varias tarjetas, deberás acceder con tus credenciales a tu banca a distancia.Si preﬁeres que un gestor bancario te atienda personalmente y te asista en la gestión de tu caso, puedes optar por acceder a tu banca online y, a continuación, iniciar una conversación con el Asistente Virtual indicando que te han robado o has perdido tu tarjeta de crédito o débito.¿Recibiré otra tarjeta?Cuando bloquees una de tus tarjetas, te mandaremos automáticamente una nueva tarjeta a tu domicilio sin necesidad de ﬁrmar un nuevo contrato. Antes de utilizarla por primera vez, deberás activarla a través del cajero automático o realizando una compra en un comercio físico, introduciendo la tarjeta en el datáfono y marcando el pin.Me han robado datos de mi tarjetaSi has sufrido un robo de datos de tu tarjeta, eres víctima de un phishing o crees que te la han duplicado, es importante que bloquees las tarjetas afectadas directamente desde el botón “Bloquear mis tarjetas”. Recuerda que antes de proceder con la anulación de una o varias tarjetas, deberás acceder con tus credenciales a tu banca a distancia.¿Qué es el phishing?El phishing es una práctica usada por los ciberdelincuentes que consiste en el acto fraudulento de robar datos bancarios de las tarjetas de crédito o débito. Los ciberdelincuentes suelen robar las contraseñas u otra información conﬁdencial para poder acceder a cuentas bancarias ajenas. Los fraudes más comunes consisten en la creación de páginas y/o portales falsos y la falsiﬁcación del origen de mensajes de correo electrónico (aunque también se pueden utilizar SMS, fax o teléfono).Estas dos técnicas se utilizan para la captación fraudulenta de contraseñas a servicios y aplicaciones de terceros u otra información conﬁdencial, como números de cuentas y de tarjetas (incluyendo la fecha de caducidad), con la ﬁnalidad de acceder a tu información o realizar operaciones en tu nombre. Ten en cuenta que Banco LLM nunca te pedirá que introduzcas tus datos bancarios o claves de acceso a través de un enlace.¿Cómo evitar ser víctima de estos actos fraudulentos?Puedes aplicar algunas prácticas en tu día a día para mantener tus datos a salvo de los ciberdelincuentes. Sigue estas recomendaciones:• Cambia periódicamente el PIN de tu tarjeta y la contraseña de acceso a tu banca a distancia.• No anotes nunca tus claves.• Nunca entregues tu usuario y contraseña (u otros datos personales) cuando te los pidan por SMS, correo electrónico, etc.•Fíjate en la última fecha y hora de conexión cuando accedas a tu banca a distancia.¿Por qué me han cobrado comisiones?Se ha procedido a la liquidación trimestral de tu cuenta aplicando las condiciones vigentes para la misma. ', metadata={'source': 'llm.pdf', 'page': 5}),\n",
              " Document(page_content='¿Cuál es el código SWIFT/BIC de Banco LLM?El código SWIFT o BIC (Código de Identiﬁcación Bancario) es un identiﬁcador único para cada banco. El de Banco Sabadell es LLMBESBB y es el mismo para todos los clientes.', metadata={'source': 'llm.pdf', 'page': 6})]"
            ]
          },
          "metadata": {},
          "execution_count": 25
        }
      ]
    },
    {
      "cell_type": "markdown",
      "source": [
        "Existen numerosas maneras de fragmentar un documento. En este caso, emplearemos un divisor básico que segmenta el documento en partes de tamaño constante.\n",
        "\n",
        "[Text Splitters](https://python.langchain.com/docs/modules/data_connection/document_transformers/)"
      ],
      "metadata": {
        "id": "pVvCu5dAz2ZX"
      }
    },
    {
      "cell_type": "code",
      "source": [
        "from langchain.text_splitter import RecursiveCharacterTextSplitter\n",
        "\n",
        "text_splitter = RecursiveCharacterTextSplitter(chunk_size=250, chunk_overlap=50)\n",
        "documents = text_splitter.split_documents(text_documents)\n",
        "documents"
      ],
      "metadata": {
        "colab": {
          "base_uri": "https://localhost:8080/"
        },
        "id": "WYXHYLeD1Ltt",
        "outputId": "1aaf8aec-85fd-4add-9fab-53ad1f2e8442"
      },
      "execution_count": null,
      "outputs": [
        {
          "output_type": "execute_result",
          "data": {
            "text/plain": [
              "[Document(page_content='LLM Sociedad Anonima', metadata={'source': 'llm.pdf', 'page': 0}),\n",
              " Document(page_content='Beneﬁcios al Empleado.Seguro de Salud Integral: Cobertura completa para el empleado y su familia, incluyendo consultas médicas, tratamientos especializados y hospitalización y dentista. Programa de Bienestar Mental: Acceso a terapias psicológicas y', metadata={'source': 'llm.pdf', 'page': 1}),\n",
              " Document(page_content='Mental: Acceso a terapias psicológicas y programas de manejo del estrés para promover la salud mental y el bienestar emocional.Horario Flexible: Posibilidad de ajustar los horarios de entrada y salida, y la opción de trabajo remoto para equilibrar', metadata={'source': 'llm.pdf', 'page': 1}),\n",
              " Document(page_content='y la opción de trabajo remoto para equilibrar las responsabilidades laborales y personales.Boniﬁcaciones Anuales: Bonos de rendimiento basados en los resultados personales y los de la empresa, pagaderos al ﬁnal de cada año ﬁscal. Bonus máximo del', metadata={'source': 'llm.pdf', 'page': 1}),\n",
              " Document(page_content='al ﬁnal de cada año ﬁscal. Bonus máximo del 60% de tu salario. Capacitación y Desarrollo: Programas de capacitación profesional y acceso a cursos para el desarrollo de habilidades personales y profesionales.Licencia Parental Extendida: Licencias por', metadata={'source': 'llm.pdf', 'page': 1}),\n",
              " Document(page_content='Parental Extendida: Licencias por maternidad y paternidad extendidas, superiores a las estipuladas por la ley, para apoyar a los nuevos padres. Puedes estar un año de licencia parental sin dar explicaciones. Gimnasio en la Empresa o Membresías', metadata={'source': 'llm.pdf', 'page': 1}),\n",
              " Document(page_content='Gimnasio en la Empresa o Membresías Deportivas: Instalaciones deportivas en el lugar de trabajo o membresías ﬁnanciadas para gimnasios locales. Incluido pistas de papel.Días de Voluntariado Pagados: Oportunidades para participar en actividades de', metadata={'source': 'llm.pdf', 'page': 1}),\n",
              " Document(page_content='Oportunidades para participar en actividades de voluntariado durante el horario laboral sin pérdida de salario.Plan de Pensiones Mejorado: Contribuciones signiﬁcativas de la empresa a los planes de pensiones para asegurar un futuro ﬁnanciero', metadata={'source': 'llm.pdf', 'page': 1}),\n",
              " Document(page_content='de pensiones para asegurar un futuro ﬁnanciero estable. Un plan de pensiones del 20% de tu salario pagado por la empresa. Seguro de Vida y de Accidentes: Polizas que ofrecen seguridad ﬁnanciera para los familiares en caso de fallecimiento o', metadata={'source': 'llm.pdf', 'page': 1}),\n",
              " Document(page_content='para los familiares en caso de fallecimiento o accidente grave del empleado.Días adicionales de vacaciones: Más allá de lo estipulado por ley, aumentando con los años de antigüedad en la empresa. Los empleados de LLM tienen un mínimo de 50 días de', metadata={'source': 'llm.pdf', 'page': 1}),\n",
              " Document(page_content='empleados de LLM tienen un mínimo de 50 días de vacaciones anuales. Subsidio para Cuidado de Niños: Ayuda económica para gastos asociados con el cuidado de los hijos, facilitando la conciliación familiar.Subsidio de Transporte: Compensación por', metadata={'source': 'llm.pdf', 'page': 1}),\n",
              " Document(page_content='familiar.Subsidio de Transporte: Compensación por gastos de transporte público o privado para reducir la carga ﬁnanciera del traslado al trabajo. El subsidio de transportes es de 100 euros al mes. Descuentos Corporativos: Acuerdos con diferentes', metadata={'source': 'llm.pdf', 'page': 1}),\n",
              " Document(page_content='Descuentos Corporativos: Acuerdos con diferentes comercios y servicios para ofrecer descuentos a los empleados.Programa de Tutoría Profesional: Acceso a mentores internos para orientación y apoyo en el desarrollo de la carrera profesional.Espacios', metadata={'source': 'llm.pdf', 'page': 1}),\n",
              " Document(page_content='el desarrollo de la carrera profesional.Espacios de Trabajo Modernos: Oﬁcinas equipadas con la tecnología más moderna y áreas de descanso para maximizar la productividad y el confort.', metadata={'source': 'llm.pdf', 'page': 1}),\n",
              " Document(page_content='Snacks y Bebidas Gratuitos: Disponibilidad continua de alimentos y bebidas saludables en el lugar de trabajo.Días de Compensación por Horas Extras: Compensación con días libres por horas trabajadas más allá de la jornada regular.Eventos de', metadata={'source': 'llm.pdf', 'page': 2}),\n",
              " Document(page_content='más allá de la jornada regular.Eventos de Integración Social y Familiar: Organización de eventos y actividades sociales para fortalecer la camaradería entre empleados y sus familias.', metadata={'source': 'llm.pdf', 'page': 2}),\n",
              " Document(page_content='Recursos Humanos¿Cómo puedo postularme a un puesto en LLM S.A.?Puedes enviar tu currículum y carta de presentación a través de nuestra página web en la sección de Carreras o directamente al correo electrónico de recursos humanos.¿Qué habilidades', metadata={'source': 'llm.pdf', 'page': 3}),\n",
              " Document(page_content='electrónico de recursos humanos.¿Qué habilidades buscan en los candidatos?Buscamos habilidades técnicas especíﬁcas relacionadas con la consultoría informática, como programación, análisis de sistemas y gestión de proyectos, además de habilidades', metadata={'source': 'llm.pdf', 'page': 3}),\n",
              " Document(page_content='y gestión de proyectos, además de habilidades blandas como comunicación efectiva y trabajo en equipo.¿Ofrecen oportunidades de trabajo remoto?Sí, dependiendo del proyecto y del rol, ofrecemos opciones de trabajo remoto para adaptarnos a las', metadata={'source': 'llm.pdf', 'page': 3}),\n",
              " Document(page_content='opciones de trabajo remoto para adaptarnos a las necesidades de nuestros empleados y clientes.¿Qué tipo de beneﬁcios ofrece la empresa?Ofrecemos varios beneﬁcios, incluyendo seguro médico, programas de bienestar, opciones de trabajo ﬂexible y', metadata={'source': 'llm.pdf', 'page': 3}),\n",
              " Document(page_content='de bienestar, opciones de trabajo ﬂexible y oportunidades de formación y desarrollo profesional.¿Cómo es el proceso de entrevista?Nuestro proceso típicamente incluye una entrevista telefónica inicial, seguida de una o más entrevistas técnicas y de', metadata={'source': 'llm.pdf', 'page': 3}),\n",
              " Document(page_content='seguida de una o más entrevistas técnicas y de comportamiento con miembros del equipo de RH y el departamento técnico.¿Cómo fomentan el desarrollo profesional?Proporcionamos acceso a cursos de capacitación, certiﬁcaciones profesionales y', metadata={'source': 'llm.pdf', 'page': 3}),\n",
              " Document(page_content='de capacitación, certiﬁcaciones profesionales y conferencias del sector, además de mentorías internas para el desarrollo de carrera.¿Cuál es la cultura laboral en LLM S.A.?Valoramos la innovación, el compromiso y la colaboración. Nuestro ambiente de', metadata={'source': 'llm.pdf', 'page': 3}),\n",
              " Document(page_content='compromiso y la colaboración. Nuestro ambiente de trabajo es dinámico y fomenta la participación activa de todos los empleados en la toma de decisiones.¿Cuánto tiempo suele durar el proceso de selección?El proceso puede durar entre dos semanas y dos', metadata={'source': 'llm.pdf', 'page': 3}),\n",
              " Document(page_content='proceso puede durar entre dos semanas y dos meses, dependiendo del rol y de la urgencia de la contratación.¿Cómo manejan las evaluaciones de desempeño?Realizamos evaluaciones de desempeño anuales y semestrales para discutir logros, establecer', metadata={'source': 'llm.pdf', 'page': 3}),\n",
              " Document(page_content='y semestrales para discutir logros, establecer objetivos y planiﬁcar el desarrollo profesional.¿Ofrecen prácticas o pasantías?Sí, ofrecemos programas de pasantías durante el verano y a lo largo del año en varios departamentos para estudiantes', metadata={'source': 'llm.pdf', 'page': 3}),\n",
              " Document(page_content='del año en varios departamentos para estudiantes universitarios y recién graduados.¿Cómo es la política de vacaciones en la empresa?Ofrecemos vacaciones pagadas competitivas, que aumentan con la antigüedad en la empresa, además de días feriados y', metadata={'source': 'llm.pdf', 'page': 3}),\n",
              " Document(page_content='en la empresa, además de días feriados y permisos especiales.¿Tienen algún programa de referidos?Sí, tenemos un programa de referidos que premia a los empleados por recomendar candidatos exitosos para las posiciones abiertas.¿Qué oportunidades de', metadata={'source': 'llm.pdf', 'page': 3}),\n",
              " Document(page_content='las posiciones abiertas.¿Qué oportunidades de ascenso existen en LLM S.A.?Promovemos el crecimiento interno y ofrecemos múltiples oportunidades de ascenso a través de evaluaciones de desempeño y necesidades organizacionales.', metadata={'source': 'llm.pdf', 'page': 3}),\n",
              " Document(page_content='¿Qué pasa si necesito una adaptación especial por una discapacidad?Adaptamos el puesto de trabajo según las necesidades especíﬁcas de nuestros empleados para asegurar su comodidad y productividad.¿Cómo puedo obtener feedback después de una', metadata={'source': 'llm.pdf', 'page': 4}),\n",
              " Document(page_content='puedo obtener feedback después de una entrevista?Los candidatos pueden esperar recibir feedback dentro de una semana después de su última entrevista, ya sea por correo electrónico o teléfono.¿Tienen algún código de vestimenta?Nuestro código de', metadata={'source': 'llm.pdf', 'page': 4}),\n",
              " Document(page_content='algún código de vestimenta?Nuestro código de vestimenta es business casual, pero se adapta según el rol y las necesidades del cliente.¿Cómo manejan los conﬂictos laborales?Tenemos un proceso claro para la resolución de conﬂictos que incluye', metadata={'source': 'llm.pdf', 'page': 4}),\n",
              " Document(page_content='claro para la resolución de conﬂictos que incluye mediación y, si es necesario, intervención de recursos humanos para garantizar un entorno de trabajo justo.¿Cómo se manejan los aumentos salariales?Los aumentos se basan en el desempeño individual,', metadata={'source': 'llm.pdf', 'page': 4}),\n",
              " Document(page_content='aumentos se basan en el desempeño individual, los resultados de la empresa y las evaluaciones periódicas.¿Qué medidas están tomando respecto a COVID-19?Seguimos las recomendaciones de las autoridades sanitarias y hemos implementado políticas de', metadata={'source': 'llm.pdf', 'page': 4}),\n",
              " Document(page_content='sanitarias y hemos implementado políticas de trabajo remoto, medidas de higiene en la oﬁcina y protocolos de salud para proteger a nuestros empleados.', metadata={'source': 'llm.pdf', 'page': 4}),\n",
              " Document(page_content='Banca LLMMe han robado o he perdido una tarjetaSi has sufrido un robo de tu tarjeta, crees que te la han duplicado o la has perdido, lo primero que debes hacer es anularla. Bloquea tu tarjeta de crédito o débito directamente desde el botón “Bloquear', metadata={'source': 'llm.pdf', 'page': 5}),\n",
              " Document(page_content='o débito directamente desde el botón “Bloquear mis tarjetas”. Recuerda que antes de proceder con la anulación de una o varias tarjetas, deberás acceder con tus credenciales a tu banca a distancia.Si preﬁeres que un gestor bancario te atienda', metadata={'source': 'llm.pdf', 'page': 5}),\n",
              " Document(page_content='preﬁeres que un gestor bancario te atienda personalmente y te asista en la gestión de tu caso, puedes optar por acceder a tu banca online y, a continuación, iniciar una conversación con el Asistente Virtual indicando que te han robado o has perdido', metadata={'source': 'llm.pdf', 'page': 5}),\n",
              " Document(page_content='Virtual indicando que te han robado o has perdido tu tarjeta de crédito o débito.¿Recibiré otra tarjeta?Cuando bloquees una de tus tarjetas, te mandaremos automáticamente una nueva tarjeta a tu domicilio sin necesidad de ﬁrmar un nuevo contrato.', metadata={'source': 'llm.pdf', 'page': 5}),\n",
              " Document(page_content='sin necesidad de ﬁrmar un nuevo contrato. Antes de utilizarla por primera vez, deberás activarla a través del cajero automático o realizando una compra en un comercio físico, introduciendo la tarjeta en el datáfono y marcando el pin.Me han robado', metadata={'source': 'llm.pdf', 'page': 5}),\n",
              " Document(page_content='en el datáfono y marcando el pin.Me han robado datos de mi tarjetaSi has sufrido un robo de datos de tu tarjeta, eres víctima de un phishing o crees que te la han duplicado, es importante que bloquees las tarjetas afectadas directamente desde el', metadata={'source': 'llm.pdf', 'page': 5}),\n",
              " Document(page_content='las tarjetas afectadas directamente desde el botón “Bloquear mis tarjetas”. Recuerda que antes de proceder con la anulación de una o varias tarjetas, deberás acceder con tus credenciales a tu banca a distancia.¿Qué es el phishing?El phishing es una', metadata={'source': 'llm.pdf', 'page': 5}),\n",
              " Document(page_content='distancia.¿Qué es el phishing?El phishing es una práctica usada por los ciberdelincuentes que consiste en el acto fraudulento de robar datos bancarios de las tarjetas de crédito o débito. Los ciberdelincuentes suelen robar las contraseñas u otra', metadata={'source': 'llm.pdf', 'page': 5}),\n",
              " Document(page_content='suelen robar las contraseñas u otra información conﬁdencial para poder acceder a cuentas bancarias ajenas. Los fraudes más comunes consisten en la creación de páginas y/o portales falsos y la falsiﬁcación del origen de mensajes de correo electrónico', metadata={'source': 'llm.pdf', 'page': 5}),\n",
              " Document(page_content='del origen de mensajes de correo electrónico (aunque también se pueden utilizar SMS, fax o teléfono).Estas dos técnicas se utilizan para la captación fraudulenta de contraseñas a servicios y aplicaciones de terceros u otra información conﬁdencial,', metadata={'source': 'llm.pdf', 'page': 5}),\n",
              " Document(page_content='de terceros u otra información conﬁdencial, como números de cuentas y de tarjetas (incluyendo la fecha de caducidad), con la ﬁnalidad de acceder a tu información o realizar operaciones en tu nombre. Ten en cuenta que Banco LLM nunca te pedirá que', metadata={'source': 'llm.pdf', 'page': 5}),\n",
              " Document(page_content='Ten en cuenta que Banco LLM nunca te pedirá que introduzcas tus datos bancarios o claves de acceso a través de un enlace.¿Cómo evitar ser víctima de estos actos fraudulentos?Puedes aplicar algunas prácticas en tu día a día para mantener tus datos a', metadata={'source': 'llm.pdf', 'page': 5}),\n",
              " Document(page_content='en tu día a día para mantener tus datos a salvo de los ciberdelincuentes. Sigue estas recomendaciones:• Cambia periódicamente el PIN de tu tarjeta y la contraseña de acceso a tu banca a distancia.• No anotes nunca tus claves.• Nunca entregues tu', metadata={'source': 'llm.pdf', 'page': 5}),\n",
              " Document(page_content='No anotes nunca tus claves.• Nunca entregues tu usuario y contraseña (u otros datos personales) cuando te los pidan por SMS, correo electrónico, etc.•Fíjate en la última fecha y hora de conexión cuando accedas a tu banca a distancia.¿Por qué me han', metadata={'source': 'llm.pdf', 'page': 5}),\n",
              " Document(page_content='accedas a tu banca a distancia.¿Por qué me han cobrado comisiones?Se ha procedido a la liquidación trimestral de tu cuenta aplicando las condiciones vigentes para la misma.', metadata={'source': 'llm.pdf', 'page': 5}),\n",
              " Document(page_content='¿Cuál es el código SWIFT/BIC de Banco LLM?El código SWIFT o BIC (Código de Identiﬁcación Bancario) es un identiﬁcador único para cada banco. El de Banco Sabadell es LLMBESBB y es el mismo para todos los clientes.', metadata={'source': 'llm.pdf', 'page': 6})]"
            ]
          },
          "metadata": {},
          "execution_count": 73
        }
      ]
    },
    {
      "cell_type": "markdown",
      "source": [
        "## **Encontrar los fragmentos relevantes a la pregunta realizada**\n",
        "\n",
        "Ante una pregunta concreta, es necesario identificar los segmentos pertinentes de la transcripción para enviarlos al modelo. Esto es donde se destacan los embeddings.\n",
        "\n",
        "Un embedding es una representación matemática del significado de una palabra, oración o documento, conceptualizado como una proyección en un espacio multidimensional. Una de las propiedades fundamentales de los embeddings es que los conceptos similares se ubican próximos entre sí en este espacio, mientras que los conceptos distintos se encuentran más separados. Para visualizar estos embeddings en dos dimensiones, puedes utilizar el \"Embed Playground\" de [Cohere](https://dashboard.cohere.com/playground/embed?redirect_uri=https%3A%2F%2Fdashboard.cohere.com%2Fplayground%2Fembed).\n",
        "\n",
        "---\n",
        "\n",
        "\n"
      ],
      "metadata": {
        "id": "0x498Ok-CWFh"
      }
    },
    {
      "cell_type": "code",
      "source": [
        "from langchain_openai.embeddings import OpenAIEmbeddings\n",
        "\n",
        "embeddings = OpenAIEmbeddings()\n",
        "embedded_query = embeddings.embed_query(\"Cual es el bonus de LLM?\")\n",
        "\n",
        "print(f\"Embedding length: {len(embedded_query)}\")\n",
        "print(embedded_query[:10])"
      ],
      "metadata": {
        "colab": {
          "base_uri": "https://localhost:8080/"
        },
        "id": "DdJw8ZcOChtn",
        "outputId": "21e46488-9b1c-4532-9cd3-ad57cc2b93f5"
      },
      "execution_count": null,
      "outputs": [
        {
          "output_type": "stream",
          "name": "stdout",
          "text": [
            "Embedding length: 1536\n",
            "[-0.013412422448485475, 0.002432951059624371, -0.0033392426437839954, -0.03895494056235842, -0.052429746717608014, -0.0005059983443141345, -0.036210072365897204, 0.013523326195184463, -0.02808637338585756, -0.028890426946408983]\n"
          ]
        }
      ]
    },
    {
      "cell_type": "markdown",
      "source": [
        "Ahora vamos a comparar 2 textos, con la pregunta \"Cual es el bonus de LLM?\"\n",
        "\n",
        "Para ellos vamos a utilizar la funcion Coseno, que calcula la relación entro la preguntas y los 2 textos."
      ],
      "metadata": {
        "id": "t08OuRA5Dtwd"
      }
    },
    {
      "cell_type": "code",
      "source": [
        "sentence1 = embeddings.embed_query(\"LLM tiene un bonus de 60%\")\n",
        "sentence2 = embeddings.embed_query(\"Me han robado la tarjeta, que hago\")\n",
        "\n",
        "from sklearn.metrics.pairwise import cosine_similarity\n",
        "\n",
        "query_sentence1_similarity = cosine_similarity([embedded_query], [sentence1])[0][0]\n",
        "query_sentence2_similarity = cosine_similarity([embedded_query], [sentence2])[0][0]\n",
        "\n",
        "query_sentence1_similarity, query_sentence2_similarity"
      ],
      "metadata": {
        "colab": {
          "base_uri": "https://localhost:8080/"
        },
        "id": "NwKe6jNBD-zK",
        "outputId": "3cd0beb0-5499-478e-d17c-6b46c2f75638"
      },
      "execution_count": null,
      "outputs": [
        {
          "output_type": "execute_result",
          "data": {
            "text/plain": [
              "(0.9059610278278115, 0.7358235998226559)"
            ]
          },
          "metadata": {},
          "execution_count": 39
        }
      ]
    },
    {
      "cell_type": "markdown",
      "source": [
        "Vector Store\n",
        "\n",
        "Requerimos un método eficaz para almacenar segmentos de documentos, sus embeddings y efectuar búsquedas de similitud en gran escala. Para lograrlo, emplearemos un Vector Store.\n",
        "\n",
        "Un Vector Store es una base de datos diseñada específicamente para embeddings, que facilita las búsquedas de similitud de manera rápida."
      ],
      "metadata": {
        "id": "pfg12YzAGT05"
      }
    },
    {
      "cell_type": "code",
      "source": [
        "from langchain_community.vectorstores import DocArrayInMemorySearch\n",
        "\n",
        "vectorstorelocal = DocArrayInMemorySearch.from_texts(\n",
        "    [\n",
        "        \"LLM tiene un bonus de 60%\",\n",
        "        \"LLM ofrece la posibilidad de teletrabajar\",\n",
        "        \"podría teletrabajar en vuestra empresa?\",\n",
        "        \"Me han robado la tarjeta, que hago\",\n",
        "        \"Si te han robado la tarjeta de credito, llama al 900\",\n",
        "    ],\n",
        "    embedding=embeddings,\n",
        ")\n",
        "\n",
        "vectorstorelocal.similarity_search_with_score(query=\"Cual es el bonus de LLM?\", k=5)\n"
      ],
      "metadata": {
        "colab": {
          "base_uri": "https://localhost:8080/"
        },
        "id": "IZsP0lxmGfAA",
        "outputId": "e979d956-666c-45a0-97d0-a67c22902a99"
      },
      "execution_count": null,
      "outputs": [
        {
          "output_type": "execute_result",
          "data": {
            "text/plain": [
              "[(Document(page_content='LLM tiene un bonus de 60%'), 0.9059610372317081),\n",
              " (Document(page_content='LLM ofrece la posibilidad de teletrabajar'),\n",
              "  0.8401575278704726),\n",
              " (Document(page_content='podría teletrabajar en vuestra empresa?'),\n",
              "  0.7717414550615617),\n",
              " (Document(page_content='Me han robado la tarjeta, que hago'),\n",
              "  0.7358236262402932),\n",
              " (Document(page_content='Si te han robado la tarjeta de credito, llama al 900'),\n",
              "  0.735286457893237)]"
            ]
          },
          "metadata": {},
          "execution_count": 47
        }
      ]
    },
    {
      "cell_type": "markdown",
      "source": [
        "## **Conectamos la Vector Store a la Chain**\n",
        "\n",
        "Es posible utilizar la Vector Store para identificar los segmentos más pertinentes de nuestro Texto en PDF que enviaremos al modelo. A continuación se describe cómo integrar La Vector Store en la cadena:\n",
        "\n",
        "Primero, debemos establecer un Recuperador. Este Recuperador realizará una búsqueda por similitud dentro del La Vector Store y retornará los documentos más parecidos al próximo eslabón en la cadena."
      ],
      "metadata": {
        "id": "TkAuiygcNcoD"
      }
    },
    {
      "cell_type": "code",
      "source": [
        "retriever1 = vectorstorelocal.as_retriever()\n",
        "retriever1.invoke(\"Cual es el bonus de LLM?\")"
      ],
      "metadata": {
        "colab": {
          "base_uri": "https://localhost:8080/"
        },
        "id": "bm3yxYfbNqtB",
        "outputId": "cb07c0b7-065b-4d18-9e20-8316bdb41632"
      },
      "execution_count": null,
      "outputs": [
        {
          "output_type": "execute_result",
          "data": {
            "text/plain": [
              "[Document(page_content='LLM tiene un bonus de 60%'),\n",
              " Document(page_content='LLM ofrece la posibilidad de teletrabajar'),\n",
              " Document(page_content='podría teletrabajar en vuestra empresa?'),\n",
              " Document(page_content='Me han robado la tarjeta, que hago')]"
            ]
          },
          "metadata": {},
          "execution_count": 49
        }
      ]
    },
    {
      "cell_type": "markdown",
      "source": [
        "Nuestro prompt requiere dos parámetros: \"contexto\" y \"pregunta\". Con el uso del recuperador, podemos seleccionar los fragmentos que servirán de contexto para dar respuesta a la pregunta.\n",
        "\n",
        "Es posible generar un mapa con estos dos elementos empleando las clases RunnableParallel y RunnablePassthrough. De esta forma, podemos entregar el contexto y la pregunta al prompt en forma de un mapa, identificando cada elemento con las claves \"contexto\" y \"pregunta\"."
      ],
      "metadata": {
        "id": "N0VA7SaAQ0Oo"
      }
    },
    {
      "cell_type": "code",
      "source": [
        "from langchain_core.runnables import RunnableParallel, RunnablePassthrough\n",
        "\n",
        "setup = RunnableParallel(context=retriever1, question=RunnablePassthrough())\n",
        "setup.invoke(\"Cual es el bonus de LLM?\")"
      ],
      "metadata": {
        "colab": {
          "base_uri": "https://localhost:8080/"
        },
        "id": "lxb6wZq7Q3QA",
        "outputId": "1c2e4da9-cd4d-4a60-a7c3-1f57397cf421"
      },
      "execution_count": null,
      "outputs": [
        {
          "output_type": "execute_result",
          "data": {
            "text/plain": [
              "{'context': [Document(page_content='LLM tiene un bonus de 60%'),\n",
              "  Document(page_content='LLM ofrece la posibilidad de teletrabajar'),\n",
              "  Document(page_content='podría teletrabajar en vuestra empresa?'),\n",
              "  Document(page_content='Me han robado la tarjeta, que hago')],\n",
              " 'question': 'Cual es el bonus de LLM?'}"
            ]
          },
          "metadata": {},
          "execution_count": 51
        }
      ]
    },
    {
      "cell_type": "markdown",
      "source": [
        "Lo añadimos al chain"
      ],
      "metadata": {
        "id": "ST6PRAv8R3k5"
      }
    },
    {
      "cell_type": "code",
      "source": [
        "chain = setup | prompt | model | parser\n",
        "chain.invoke(\"Cual es el bonus de LLM?\")"
      ],
      "metadata": {
        "colab": {
          "base_uri": "https://localhost:8080/",
          "height": 35
        },
        "id": "AsbHQCuuR5e8",
        "outputId": "4312a90c-2731-420f-e9c9-6855a1b1ae73"
      },
      "execution_count": null,
      "outputs": [
        {
          "output_type": "execute_result",
          "data": {
            "text/plain": [
              "'El bonus de LLM es del 60%.'"
            ],
            "application/vnd.google.colaboratory.intrinsic+json": {
              "type": "string"
            }
          },
          "metadata": {},
          "execution_count": 54
        }
      ]
    },
    {
      "cell_type": "code",
      "source": [
        "chain.invoke(\"ofrece teletrabajo? o tengo que trabajar en la oficina\")\n"
      ],
      "metadata": {
        "colab": {
          "base_uri": "https://localhost:8080/",
          "height": 35
        },
        "id": "PHgfffIoSEhr",
        "outputId": "eb5a10d2-2449-481a-96a3-087a77adebc1"
      },
      "execution_count": null,
      "outputs": [
        {
          "output_type": "execute_result",
          "data": {
            "text/plain": [
              "'Sí, LLM ofrece la posibilidad de teletrabajar.'"
            ],
            "application/vnd.google.colaboratory.intrinsic+json": {
              "type": "string"
            }
          },
          "metadata": {},
          "execution_count": 55
        }
      ]
    },
    {
      "cell_type": "markdown",
      "source": [
        "## **Cargamos todo nuestro .pdf a la Vector Store**"
      ],
      "metadata": {
        "id": "V_Iz2GVYTq22"
      }
    },
    {
      "cell_type": "code",
      "source": [
        "len(documents)"
      ],
      "metadata": {
        "colab": {
          "base_uri": "https://localhost:8080/"
        },
        "id": "RUD9ivWiVV3h",
        "outputId": "c04544a2-a1ac-4cb0-ad70-251b81dc2085"
      },
      "execution_count": null,
      "outputs": [
        {
          "output_type": "execute_result",
          "data": {
            "text/plain": [
              "51"
            ]
          },
          "metadata": {},
          "execution_count": 72
        }
      ]
    },
    {
      "cell_type": "code",
      "source": [
        "vectorstorepdf = DocArrayInMemorySearch.from_documents(documents, embeddings)\n"
      ],
      "metadata": {
        "id": "6PDlMN4sT5Ti"
      },
      "execution_count": null,
      "outputs": []
    },
    {
      "cell_type": "code",
      "source": [
        "setuppdf = RunnableParallel(context=vectorstorepdf.as_retriever(), question=RunnablePassthrough())\n",
        "\n",
        "chain = (\n",
        "    setuppdf\n",
        "    | prompt\n",
        "    | model\n",
        "    | parser\n",
        ")\n",
        "chain.invoke(\"que tiempo hace en Madrid\")"
      ],
      "metadata": {
        "colab": {
          "base_uri": "https://localhost:8080/",
          "height": 35
        },
        "id": "WPx4ZTBMT-4d",
        "outputId": "4484919a-1ed9-4571-c6d7-7707f8c60509"
      },
      "execution_count": null,
      "outputs": [
        {
          "output_type": "execute_result",
          "data": {
            "text/plain": [
              "'No sé.'"
            ],
            "application/vnd.google.colaboratory.intrinsic+json": {
              "type": "string"
            }
          },
          "metadata": {},
          "execution_count": 77
        }
      ]
    },
    {
      "cell_type": "markdown",
      "source": [
        "Pinecone como nuestra Vector Store"
      ],
      "metadata": {
        "id": "jI04uuQ-azBO"
      }
    },
    {
      "cell_type": "code",
      "source": [
        "from langchain_pinecone import PineconeVectorStore\n",
        "\n",
        "index_name = \"llm-rag-curso\"\n",
        "pinecone = PineconeVectorStore.from_documents(\n",
        "    documents, embeddings, index_name=index_name\n",
        ")"
      ],
      "metadata": {
        "id": "QkPrcOtCa8H4"
      },
      "execution_count": null,
      "outputs": []
    },
    {
      "cell_type": "code",
      "source": [
        "pinecone.similarity_search(\"Puedo teletrabajar\")[:3]\n"
      ],
      "metadata": {
        "colab": {
          "base_uri": "https://localhost:8080/"
        },
        "id": "AbwuLiagbxmr",
        "outputId": "f2bc3666-9907-437f-e306-e16ef5f9b9b8"
      },
      "execution_count": null,
      "outputs": [
        {
          "output_type": "execute_result",
          "data": {
            "text/plain": [
              "[Document(page_content='opciones de trabajo remoto para adaptarnos a las necesidades de nuestros empleados y clientes.¿Qué tipo de beneﬁcios ofrece la empresa?Ofrecemos varios beneﬁcios, incluyendo seguro médico, programas de bienestar, opciones de trabajo ﬂexible y', metadata={'page': 3.0, 'source': 'llm.pdf'}),\n",
              " Document(page_content='opciones de trabajo remoto para adaptarnos a las necesidades de nuestros empleados y clientes.¿Qué tipo de beneﬁcios ofrece la empresa?Ofrecemos varios beneﬁcios, incluyendo seguro médico, programas de bienestar, opciones de trabajo ﬂexible y', metadata={'page': 3.0, 'source': 'llm.pdf'}),\n",
              " Document(page_content='Mental: Acceso a terapias psicológicas y programas de manejo del estrés para promover la salud mental y el bienestar emocional.Horario Flexible: Posibilidad de ajustar los horarios de entrada y salida, y la opción de trabajo remoto para equilibrar', metadata={'page': 1.0, 'source': 'llm.pdf'})]"
            ]
          },
          "metadata": {},
          "execution_count": 84
        }
      ]
    },
    {
      "cell_type": "code",
      "source": [
        "setuppinecone = RunnableParallel(context=pinecone.as_retriever(), question=RunnablePassthrough())\n",
        "\n",
        "chain = (\n",
        "    setuppinecone\n",
        "    | prompt\n",
        "    | model\n",
        "    | parser\n",
        ")\n",
        "chain.invoke(\"tiempo en madrid hoy\")"
      ],
      "metadata": {
        "colab": {
          "base_uri": "https://localhost:8080/",
          "height": 35
        },
        "id": "JeV_uZuUgf-F",
        "outputId": "3a939e90-9214-4bdf-bf53-71d498c5b441"
      },
      "execution_count": null,
      "outputs": [
        {
          "output_type": "execute_result",
          "data": {
            "text/plain": [
              "'No sé.'"
            ],
            "application/vnd.google.colaboratory.intrinsic+json": {
              "type": "string"
            }
          },
          "metadata": {},
          "execution_count": 89
        }
      ]
    }
  ]
}